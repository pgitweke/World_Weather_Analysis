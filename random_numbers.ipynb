{
 "cells": [
  {
   "cell_type": "code",
   "execution_count": 1,
   "id": "5f3e9040",
   "metadata": {},
   "outputs": [],
   "source": [
    "# Import the random module\n",
    "import random"
   ]
  },
  {
   "cell_type": "code",
   "execution_count": 2,
   "id": "422baa65",
   "metadata": {},
   "outputs": [
    {
     "data": {
      "text/plain": [
       "-43"
      ]
     },
     "execution_count": 2,
     "metadata": {},
     "output_type": "execute_result"
    }
   ],
   "source": [
    "random.randint(-90, 90)"
   ]
  },
  {
   "cell_type": "code",
   "execution_count": 3,
   "id": "ec64638e",
   "metadata": {},
   "outputs": [
    {
     "data": {
      "text/plain": [
       "0.26632912332675607"
      ]
     },
     "execution_count": 3,
     "metadata": {},
     "output_type": "execute_result"
    }
   ],
   "source": [
    "random.random()"
   ]
  },
  {
   "cell_type": "code",
   "execution_count": 4,
   "id": "5128b429",
   "metadata": {},
   "outputs": [
    {
     "data": {
      "text/plain": [
       "-5.48128657417617"
      ]
     },
     "execution_count": 4,
     "metadata": {},
     "output_type": "execute_result"
    }
   ],
   "source": [
    "random_number = random.randint(-90,89) + random.random()\n",
    "random_number"
   ]
  },
  {
   "cell_type": "code",
   "execution_count": 5,
   "id": "840b9f45",
   "metadata": {},
   "outputs": [
    {
     "data": {
      "text/plain": [
       "[63.39142013124294,\n",
       " -20.439736613114437,\n",
       " -22.217039317300873,\n",
       " -70.25995319173975,\n",
       " -17.359933718245408,\n",
       " 39.818146205276825,\n",
       " 89.28926681987492,\n",
       " -9.835772010385588,\n",
       " -36.77317660777659,\n",
       " 8.6851746752517]"
      ]
     },
     "execution_count": 5,
     "metadata": {},
     "output_type": "execute_result"
    }
   ],
   "source": [
    "#Using these two functions, we can write an algorithm that will generate latitudes between -90 and 89.\n",
    "#Here is a small sample of what it might take to generate ten random floating-point decimal latitudes \n",
    "#between -90 and 89.\n",
    "\n",
    "# Assign the variable x to 1.\n",
    "x = 1\n",
    "\n",
    "# Initialize an empty list, latitudes.\n",
    "latitudes = []\n",
    "\n",
    "# Create a while loop where we generate a random latitude and add it to the list.\n",
    "while x < 11:\n",
    "    \n",
    "# Add random latitude to the list and add one to the variable x   \n",
    "    random_lat = random.randint(-90, 89) + random.random ()\n",
    "    latitudes.append(random_lat)\n",
    "    x += 1\n",
    "    \n",
    "latitudes"
   ]
  },
  {
   "cell_type": "code",
   "execution_count": 6,
   "id": "898d5543",
   "metadata": {},
   "outputs": [
    {
     "data": {
      "text/plain": [
       "-39"
      ]
     },
     "execution_count": 6,
     "metadata": {},
     "output_type": "execute_result"
    }
   ],
   "source": [
    "#The randrange() Function\n",
    "\n",
    "random.randrange(-90, 90, step=1)"
   ]
  },
  {
   "cell_type": "code",
   "execution_count": 7,
   "id": "f1fb43ea",
   "metadata": {},
   "outputs": [
    {
     "data": {
      "text/plain": [
       "-63"
      ]
     },
     "execution_count": 7,
     "metadata": {},
     "output_type": "execute_result"
    }
   ],
   "source": [
    "#The randrange() Function\n",
    "\n",
    "random.randrange(-90, 90, step=3)"
   ]
  },
  {
   "cell_type": "code",
   "execution_count": 8,
   "id": "7cd83dee",
   "metadata": {},
   "outputs": [
    {
     "data": {
      "text/plain": [
       "-2.1473534802968715"
      ]
     },
     "execution_count": 8,
     "metadata": {},
     "output_type": "execute_result"
    }
   ],
   "source": [
    "#The uniform() Function\n",
    "\n",
    "random.uniform(-90, 90)"
   ]
  },
  {
   "cell_type": "code",
   "execution_count": 9,
   "id": "496a0939",
   "metadata": {},
   "outputs": [],
   "source": [
    "# Import the NumPy module.\n",
    "import numpy as np"
   ]
  },
  {
   "cell_type": "code",
   "execution_count": 10,
   "id": "759e0744",
   "metadata": {},
   "outputs": [
    {
     "data": {
      "text/plain": [
       "69.16820868126399"
      ]
     },
     "execution_count": 10,
     "metadata": {},
     "output_type": "execute_result"
    }
   ],
   "source": [
    "np.random.uniform (-90.000, 90.000)"
   ]
  },
  {
   "cell_type": "code",
   "execution_count": 11,
   "id": "1c3c2e83",
   "metadata": {},
   "outputs": [
    {
     "data": {
      "text/plain": [
       "array([-62.78310003,   3.65539192, -80.62256122,  -5.12760348,\n",
       "       -23.21070752,  41.71828693,  19.06992828, -14.87830444,\n",
       "       -49.86366183,  32.78522441,   8.84481005,  10.35386166,\n",
       "       -46.94066022,  40.61563889,  72.21761876,  71.53308965,\n",
       "       -85.57911519, -88.09986615,   2.99948638,  82.43596755,\n",
       "        24.06866966, -89.08363591, -27.85992994, -36.15837469,\n",
       "         6.76992883,  -8.26845383,  75.88750282, -27.07290405,\n",
       "        79.96793492, -89.16867986, -43.75029698, -16.10502687,\n",
       "       -50.9901334 ,   8.13331647, -42.06901167,   2.01611622,\n",
       "        -1.52191355,  29.25765089,  31.52381151, -29.84670555,\n",
       "         2.93008146,  64.72868602,  24.71989544,   0.14654433,\n",
       "       -39.16797118, -18.31162713,  14.02257041, -73.32737271,\n",
       "        -9.05938789, -17.87166265])"
      ]
     },
     "execution_count": 11,
     "metadata": {},
     "output_type": "execute_result"
    }
   ],
   "source": [
    "# To generate more than one floating-point decimal number between -90 and 90, \n",
    "# we can add the size parameter when we use the NumPy module and set that equal to any whole number\n",
    "\n",
    "np.random.uniform (-90.000, 90.000, size= 50)"
   ]
  },
  {
   "cell_type": "code",
   "execution_count": 12,
   "id": "49c55ac8",
   "metadata": {},
   "outputs": [],
   "source": [
    "#To test how long a piece of code or function takes to run we can import the \"timeit\" module \n",
    "# and use the %timeit magic command when we run our code or call the function.\n",
    "\n",
    "# import timeit.\n",
    "import timeit"
   ]
  },
  {
   "cell_type": "code",
   "execution_count": 13,
   "id": "066cd5d0",
   "metadata": {},
   "outputs": [
    {
     "name": "stdout",
     "output_type": "stream",
     "text": [
      "45.6 µs ± 2.45 µs per loop (mean ± std. dev. of 7 runs, 10000 loops each)\n"
     ]
    }
   ],
   "source": [
    "%timeit np.random.uniform (-90.000, 90.000, size= 1500)"
   ]
  },
  {
   "cell_type": "code",
   "execution_count": 14,
   "id": "3e57297d",
   "metadata": {},
   "outputs": [
    {
     "name": "stdout",
     "output_type": "stream",
     "text": [
      "4.89 ms ± 424 µs per loop (mean ± std. dev. of 7 runs, 100 loops each)\n"
     ]
    }
   ],
   "source": [
    "def latitudes(size):\n",
    "    latitudes = []\n",
    "    x = 0\n",
    "    while x < (size):\n",
    "        random_lat = random.randint(-90, 90) + random.random()\n",
    "        latitudes.append(random_lat)\n",
    "        x += 1\n",
    "    return latitudes\n",
    "\n",
    "# Call the function with 1500.\n",
    "%timeit latitudes(1500)"
   ]
  },
  {
   "cell_type": "code",
   "execution_count": 1,
   "id": "88ba09ce",
   "metadata": {},
   "outputs": [],
   "source": [
    "# import linear regression from the SciPy stats module.\n",
    "from scipy.stats import linregress"
   ]
  },
  {
   "cell_type": "code",
   "execution_count": 2,
   "id": "ec162538",
   "metadata": {},
   "outputs": [],
   "source": [
    "# Create an equal number of latitudes and temperature\n",
    "lats = [42.5, 43.9, 8.1, 36.8, 79.9, 69.1, 25.7, 15.3, 12.7, 64.5]\n",
    "temps = [80.5, 75.3, 90.9, 90.0, 40.4, 62.3, 85.4, 79.6, 72.5, 72.0]"
   ]
  },
  {
   "cell_type": "code",
   "execution_count": 3,
   "id": "5a907474",
   "metadata": {},
   "outputs": [
    {
     "name": "stdout",
     "output_type": "stream",
     "text": [
      "y= -0.45x + 92.94\n",
      "The p-value is: 0.011\n"
     ]
    }
   ],
   "source": [
    "# Perform linear regression.\n",
    "(slope, intercept, r_value, p_value,std_err) = linregress(lats, temps)\n",
    "\n",
    "# Get the equation of the line.\n",
    "line_eq = \"y= \" + str(round(slope, 2)) + \"x + \" + str(round(intercept, 2))\n",
    "\n",
    "print(line_eq)\n",
    "print(f\"The p-value is: {p_value:.3f}\")"
   ]
  },
  {
   "cell_type": "code",
   "execution_count": 4,
   "id": "4f692343",
   "metadata": {},
   "outputs": [],
   "source": [
    "# Calculate the regression line \"y values\" from the slope and intercept.\n",
    "regress_values = [(lat * slope + intercept) for lat in lats]"
   ]
  },
  {
   "cell_type": "code",
   "execution_count": 5,
   "id": "90f7da91",
   "metadata": {},
   "outputs": [
    {
     "data": {
      "image/png": "[encoded data removed]",
      "text/plain": [
       "<Figure size 432x288 with 1 Axes>"
      ]
     },
     "metadata": {
      "needs_background": "light"
     },
     "output_type": "display_data"
    }
   ],
   "source": [
    "# Import Matplotlib.\n",
    "import matplotlib.pyplot as plt\n",
    "\n",
    "# Create a scatter plot of the x and y values\n",
    "plt.scatter(lats,temps)\n",
    "\n",
    "# Plot the regression line with the x-values and the y coordinates based on the intercept and slope.\n",
    "plt.plot(lats, regress_values, \"r\")\n",
    "\n",
    "# Annotate the text for the line equation and add its coordinates.\n",
    "plt.annotate(line_eq, (10,40), fontsize=15, color=\"red\")\n",
    "plt.xlabel(\"Latitude\")\n",
    "plt.ylabel(\"Temp\")\n",
    "plt.show()"
   ]
  },
  {
   "cell_type": "code",
   "execution_count": null,
   "id": "6aa86088",
   "metadata": {},
   "outputs": [],
   "source": []
  }
 ],
 "metadata": {
  "kernelspec": {
   "display_name": "PythonData",
   "language": "python",
   "name": "pythondata"
  },
  "language_info": {
   "codemirror_mode": {
    "name": "ipython",
    "version": 3
   },
   "file_extension": ".py",
   "mimetype": "text/x-python",
   "name": "python",
   "nbconvert_exporter": "python",
   "pygments_lexer": "ipython3",
   "version": "3.7.13"
  }
 },
 "nbformat": 4,
 "nbformat_minor": 5
}
